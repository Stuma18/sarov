{
 "cells": [
  {
   "cell_type": "markdown",
   "metadata": {},
   "source": [
    "# Д/З 2"
   ]
  },
  {
   "cell_type": "markdown",
   "metadata": {},
   "source": [
    "# Регрессия"
   ]
  },
  {
   "cell_type": "markdown",
   "metadata": {},
   "source": [
    "## Студеникина Мария Александровна"
   ]
  },
  {
   "cell_type": "markdown",
   "metadata": {},
   "source": [
    "Аппроксимация функции f: R->R\n",
    "- Размер выборки: 63 пары.\n",
    "- Метод решения\n",
    "1. Предобработка: выполнить нормализацию данных (привести к нулевому среднему и единичному ско), провести анализ распределения данных (опционально);\n",
    "2. Построить персептрон;\n",
    "3. Функция потерь: MSE;\n",
    "4. Разделить данные случайным образом на обучающую и валидационную 70:30.\n",
    "5. Провести анализ динамики обучения по графикам функции потерь;\n",
    "6. Оценить качество сети используя многократную кросс-валидацию."
   ]
  },
  {
   "cell_type": "code",
   "execution_count": 1,
   "metadata": {},
   "outputs": [
    {
     "name": "stderr",
     "output_type": "stream",
     "text": [
      "/Users/manya/anaconda3/lib/python3.9/site-packages/scipy/__init__.py:146: UserWarning: A NumPy version >=1.16.5 and <1.23.0 is required for this version of SciPy (detected version 1.24.3\n",
      "  warnings.warn(f\"A NumPy version >={np_minversion} and <{np_maxversion}\"\n"
     ]
    }
   ],
   "source": [
    "# Импорт библиотек\n",
    "import numpy as np\n",
    "import pandas as pd\n",
    "import torch\n",
    "from matplotlib import pyplot as plt\n",
    "import torch.nn as nn\n",
    "from numpy import float32\n",
    "from sklearn.model_selection import train_test_split"
   ]
  },
  {
   "cell_type": "code",
   "execution_count": 2,
   "metadata": {},
   "outputs": [],
   "source": [
    "# Подключаем библиотеку, чтобы убрать варнинги и сделать чище выводы\n",
    "import warnings\n",
    "warnings.filterwarnings('ignore')"
   ]
  },
  {
   "cell_type": "code",
   "execution_count": 3,
   "metadata": {},
   "outputs": [
    {
     "data": {
      "text/html": [
       "<div>\n",
       "<style scoped>\n",
       "    .dataframe tbody tr th:only-of-type {\n",
       "        vertical-align: middle;\n",
       "    }\n",
       "\n",
       "    .dataframe tbody tr th {\n",
       "        vertical-align: top;\n",
       "    }\n",
       "\n",
       "    .dataframe thead th {\n",
       "        text-align: right;\n",
       "    }\n",
       "</style>\n",
       "<table border=\"1\" class=\"dataframe\">\n",
       "  <thead>\n",
       "    <tr style=\"text-align: right;\">\n",
       "      <th></th>\n",
       "      <th>A</th>\n",
       "      <th>B</th>\n",
       "    </tr>\n",
       "  </thead>\n",
       "  <tbody>\n",
       "    <tr>\n",
       "      <th>0</th>\n",
       "      <td>108.0</td>\n",
       "      <td>392.500000</td>\n",
       "    </tr>\n",
       "    <tr>\n",
       "      <th>1</th>\n",
       "      <td>19.0</td>\n",
       "      <td>46.200001</td>\n",
       "    </tr>\n",
       "    <tr>\n",
       "      <th>2</th>\n",
       "      <td>13.0</td>\n",
       "      <td>15.700000</td>\n",
       "    </tr>\n",
       "    <tr>\n",
       "      <th>3</th>\n",
       "      <td>124.0</td>\n",
       "      <td>422.200012</td>\n",
       "    </tr>\n",
       "    <tr>\n",
       "      <th>4</th>\n",
       "      <td>40.0</td>\n",
       "      <td>119.400002</td>\n",
       "    </tr>\n",
       "    <tr>\n",
       "      <th>...</th>\n",
       "      <td>...</td>\n",
       "      <td>...</td>\n",
       "    </tr>\n",
       "    <tr>\n",
       "      <th>58</th>\n",
       "      <td>9.0</td>\n",
       "      <td>87.400002</td>\n",
       "    </tr>\n",
       "    <tr>\n",
       "      <th>59</th>\n",
       "      <td>31.0</td>\n",
       "      <td>209.800003</td>\n",
       "    </tr>\n",
       "    <tr>\n",
       "      <th>60</th>\n",
       "      <td>14.0</td>\n",
       "      <td>95.500000</td>\n",
       "    </tr>\n",
       "    <tr>\n",
       "      <th>61</th>\n",
       "      <td>53.0</td>\n",
       "      <td>244.600006</td>\n",
       "    </tr>\n",
       "    <tr>\n",
       "      <th>62</th>\n",
       "      <td>26.0</td>\n",
       "      <td>187.500000</td>\n",
       "    </tr>\n",
       "  </tbody>\n",
       "</table>\n",
       "<p>63 rows × 2 columns</p>\n",
       "</div>"
      ],
      "text/plain": [
       "        A           B\n",
       "0   108.0  392.500000\n",
       "1    19.0   46.200001\n",
       "2    13.0   15.700000\n",
       "3   124.0  422.200012\n",
       "4    40.0  119.400002\n",
       "..    ...         ...\n",
       "58    9.0   87.400002\n",
       "59   31.0  209.800003\n",
       "60   14.0   95.500000\n",
       "61   53.0  244.600006\n",
       "62   26.0  187.500000\n",
       "\n",
       "[63 rows x 2 columns]"
      ]
     },
     "execution_count": 3,
     "metadata": {},
     "output_type": "execute_result"
    }
   ],
   "source": [
    "# Загружаем данные из файла\n",
    "data = pd.read_csv(\"dataset_regression.csv\", dtype = np.float32, sep = ';', names = ['A', 'B'])\n",
    "# Пример данных\n",
    "data"
   ]
  },
  {
   "cell_type": "code",
   "execution_count": 4,
   "metadata": {},
   "outputs": [],
   "source": [
    "data_1 = data.copy()\n",
    "data_1_2 = torch.tensor(data_1.values)\n",
    "x_1, y_2 = data_1_2[:, 0], data_1_2[:, 1]"
   ]
  },
  {
   "cell_type": "code",
   "execution_count": 5,
   "metadata": {},
   "outputs": [],
   "source": [
    "data_2 = data.copy()\n",
    "data_3 = torch.tensor(data_2.values)\n",
    "data_norm = data_3\n",
    "torch.nn.functional.normalize(data_3, p = 1.1, dim = 1, eps = 1e-12, out = data_norm)\n",
    "x, y = data_norm[:, 0], data_norm[:, 1]"
   ]
  },
  {
   "cell_type": "markdown",
   "metadata": {},
   "source": [
    "Функция torch.nn.functional.normalize применяется к data_3 для нормализации данных. Здесь p равно 1.1, dim указывает размерность, по которой будет производиться нормализация (в данном случае по 1-й размерности), eps - это очень малое положительное число, добавленное для избежания деления на ноль, и out указывает, что нормализованные данные будут сохранены в data_norm.\n",
    "5. В конце кода значение первого столбца data_norm присваивается переменной x, а значение второго столбца data_norm присваивается переменной y.\n",
    "\n",
    "Таким образом, исходные данные из data_2 преобразуются в тензоры PyTorch (data_3), нормализуются по заданной размерности и сохраняются нормализованные значения в data_norm. Затем переменные x и y получают значения первого и второго столбца data_norm соответственно."
   ]
  },
  {
   "cell_type": "code",
   "execution_count": 6,
   "metadata": {},
   "outputs": [
    {
     "data": {
      "image/png": "[encoded data removed]",
      "text/plain": [
       "<Figure size 432x288 with 1 Axes>"
      ]
     },
     "metadata": {
      "needs_background": "light"
     },
     "output_type": "display_data"
    },
    {
     "data": {
      "image/png": "[encoded data removed]",
      "text/plain": [
       "<Figure size 432x288 with 1 Axes>"
      ]
     },
     "metadata": {
      "needs_background": "light"
     },
     "output_type": "display_data"
    }
   ],
   "source": [
    "plt.figure(\"All data\")\n",
    "plt.title(\"All data\")\n",
    "plt.plot(x_1,y_2,marker=\".\",lw=0)\n",
    "\n",
    "plt.figure(\"Normalized data\")\n",
    "plt.title(\"Normalized data\")\n",
    "plt.plot(x, y, \"b\", marker = \".\", lw = 0)\n",
    "plt.show()"
   ]
  },
  {
   "cell_type": "code",
   "execution_count": 7,
   "metadata": {},
   "outputs": [],
   "source": [
    "# Разделение на выборки\n",
    "X_train, X_val, y_train, y_val = train_test_split(x, y, train_size=0.7, random_state=42)"
   ]
  },
  {
   "cell_type": "code",
   "execution_count": 68,
   "metadata": {},
   "outputs": [],
   "source": [
    "# Построение персептрона\n",
    "class MLP(nn.Module):\n",
    "    def __init__(self, size):\n",
    "        super(MLP, self).__init__()\n",
    "        self.mlp1 = nn.Linear(1, size)\n",
    "        #self.mlp2 = nn.Linear(size, size)\n",
    "        #self.mlp3 = nn.Linear(size, size)\n",
    "        #self.mlp4 = nn.Linear(size, size)\n",
    "        #self.mlp5 = nn.Linear(size, size)\n",
    "        #self.mlp6 = nn.Linear(size, size)\n",
    "        #self.mlp7 = nn.Linear(size, size)\n",
    "        self.mlp8 = nn.Linear(size, 1)\n",
    "    \n",
    "    def forward(self, x):\n",
    "        x = self.mlp1(x)\n",
    "        #x = nn.ReLU()(x)\n",
    "        #x = self.mlp2(x)\n",
    "        #x = nn.ReLU()(x)\n",
    "        #x = self.mlp3(x)\n",
    "        #x = nn.ReLU()(x)\n",
    "        #x = self.mlp4(x)\n",
    "        #x = nn.ReLU()(x)\n",
    "        #x = self.mlp5(x)\n",
    "        #x = nn.ReLU()(x)\n",
    "        #x = self.mlp6(x)\n",
    "        #x = nn.ReLU()(x)\n",
    "        #x = self.mlp7(x)\n",
    "        x = nn.ReLU()(x)\n",
    "        x = self.mlp8(x)\n",
    "        return x"
   ]
  },
  {
   "cell_type": "code",
   "execution_count": 64,
   "metadata": {},
   "outputs": [],
   "source": [
    "def funk(s_2, s_3):\n",
    "    \n",
    "    mlp = MLP(s_2)\n",
    "    \n",
    "    optimazer = torch.optim.SGD(mlp.parameters(), lr = 0.01)\n",
    "    \n",
    "    # Объединение в массив для дальнейшего перемешивания данных для улучшения точности обучения\n",
    "    X_y_train = (torch.cat((X_train.reshape(1, 44), y_train.reshape(1, 44)), 0)).T\n",
    "    \n",
    "    # создание списков для записи переменных для построения графиков\n",
    "    num_epoch = []\n",
    "    Err_train = []\n",
    "    Err_val = []\n",
    "\n",
    "    loss = nn.MSELoss()\n",
    "    \n",
    "    # задание количества эпох\n",
    "    max_epoches = s_3\n",
    "\n",
    "    for epoch in np.arange(max_epoches):\n",
    "        \n",
    "        # перемешиваем данные каждую эпоху для лучшей точности\n",
    "        X_y_train_mix = X_y_train[torch.randperm(X_y_train.size()[0])]\n",
    "\n",
    "        # разделяем на x и y\n",
    "        x_2 = X_y_train_mix[:,:-1]\n",
    "        y_2 = X_y_train_mix[:,-1:]\n",
    "\n",
    "        # прогнозируем следующие значения\n",
    "        y_prog = mlp(x_2)\n",
    "        \n",
    "        # считаем ошибку и добавляем полученное значение в список\n",
    "        loss_1 = loss(y_prog, y_2)\n",
    "        Err_train.append(loss_1.item())\n",
    "        \n",
    "        optimazer.zero_grad()\n",
    "        loss_1.backward()\n",
    "        optimazer.step()\n",
    "\n",
    "        #if (epoch % s_4 == 0):\n",
    "        y_val_2 = mlp((X_val.reshape(1, -1)).T)\n",
    "        loss_val = loss(y_val_2, y_val)\n",
    "        num_epoch.append(epoch)\n",
    "        Err_val.append(loss_val .item())\n",
    "        \n",
    "        # вычисления процента обучения выборки\n",
    "        #current = 0\n",
    "        #for i in np.arange(X_val.size()[0]):\n",
    "        #    if(abs(y_val[i] - torch.round(y_val_2[i])) < 10 ** (-9)):\n",
    "        #        current += 1\n",
    "        #accuracy = current/X_val.size()[0]\n",
    "        #print('Epoch № {}:  Error = {},  Accuracy = {}'.format(epoch, loss_val, accuracy))\n",
    "    \n",
    "    #iter = np.arange(max_epoches)\n",
    "    #fig, axs = plt.subplots(1, 2, figsize = (16, 6))\n",
    "    #plt.rcParamscf.updater({'font.size':23})\n",
    "    #axs[0].plot(iter, Err_train)\n",
    "    #axs[0].set(xlabel = 'Номер итерации', ylabel = 'Ошибка тестовой выборки')\n",
    "    #axs[1].plot(num_epoch, Err_val)\n",
    "    #axs[1].set(xlabel = 'Номер эпохи', ylabel = 'Ошибка валидационной выборки')\n",
    "    #fig.tight_layout()\n",
    "\n",
    "    # график \n",
    "    iter = np.arange(max_epoches)\n",
    "    plt.plot(iter, Err_train, label = 'Ошибка тестовой выборки')\n",
    "    plt.plot(iter, Err_val, label = 'Ошибка валидационной выборки')\n",
    "    plt.xlabel('Количество эпох')\n",
    "    plt.ylabel('Потери при обучении')\n",
    "    plt.legend()\n",
    "    plt.show"
   ]
  },
  {
   "cell_type": "markdown",
   "metadata": {},
   "source": [
    "### Модель 1\n",
    "Однослойный персептрон"
   ]
  },
  {
   "cell_type": "code",
   "execution_count": 52,
   "metadata": {},
   "outputs": [
    {
     "data": {
      "image/png": "[encoded data removed]",
      "text/plain": [
       "<Figure size 432x288 with 1 Axes>"
      ]
     },
     "metadata": {
      "needs_background": "light"
     },
     "output_type": "display_data"
    }
   ],
   "source": [
    "z = funk(1, 10000)"
   ]
  },
  {
   "cell_type": "markdown",
   "metadata": {},
   "source": [
    "### Модель 2\n",
    "Двухслойный персептрон"
   ]
  },
  {
   "cell_type": "code",
   "execution_count": 69,
   "metadata": {},
   "outputs": [
    {
     "data": {
      "image/png": "[encoded data removed]",
      "text/plain": [
       "<Figure size 432x288 with 1 Axes>"
      ]
     },
     "metadata": {
      "needs_background": "light"
     },
     "output_type": "display_data"
    }
   ],
   "source": [
    "# применяем функцияю и задаем количетво нейтронов в слоях количество эпох и с какой частотой их выводить\n",
    "z = funk(8, 1000)"
   ]
  },
  {
   "cell_type": "markdown",
   "metadata": {},
   "source": [
    "## Модель 3\n",
    "Четырехслойный персептрон"
   ]
  },
  {
   "cell_type": "code",
   "execution_count": 67,
   "metadata": {},
   "outputs": [
    {
     "data": {
      "image/png": "[encoded data removed]",
      "text/plain": [
       "<Figure size 432x288 with 1 Axes>"
      ]
     },
     "metadata": {
      "needs_background": "light"
     },
     "output_type": "display_data"
    }
   ],
   "source": [
    "z = funk(8, 10000)"
   ]
  },
  {
   "cell_type": "markdown",
   "metadata": {},
   "source": [
    "## Модель 4\n",
    "Восьмислойный персептрон"
   ]
  },
  {
   "cell_type": "code",
   "execution_count": 65,
   "metadata": {},
   "outputs": [
    {
     "data": {
      "image/png": "[encoded data removed]",
      "text/plain": [
       "<Figure size 432x288 with 1 Axes>"
      ]
     },
     "metadata": {
      "needs_background": "light"
     },
     "output_type": "display_data"
    }
   ],
   "source": [
    "z = funk(8, 10000)"
   ]
  },
  {
   "cell_type": "markdown",
   "metadata": {},
   "source": [
    "В задаче на выборке размера 63 пары нужно было оценить качество аппроксимирующей функции по отношению к исходной в зависимости от используемой модели. \n",
    "\n",
    "Перед началом работы проводится нормализация данных. Нормализация данных нужна для того, чтобы привести данные к определенному диапазону значений. Это может улучшить производительность моделей. Нормализация была выполнена с помощью функции torch.nn. functional.normalize. Кроме того, данные были разделены на обучающую и валидационную в соотношении 70:30. \n",
    "\n",
    "Первый вариант модели — это однослойный персептрон. Это простейшая модель нейронной сети, которая состоит из одного входного слоя, одного выходного слоя и одного скрытого слоя. Этот тип нейронной сети используется для решения задач классификации и регрессии. Однослойный персептрон может быть использован для аппроксимации функций, распознавания образов и других задач. Функция потерь рассчитывается с помощью среднеквадратичной ошибки (MSE), это одна из самых простых и распространенных функций, которую можно использовать в машинном обучении. \n",
    "Количество эпох 10000, а НС состоит из одного персептрона. \n",
    "Как видно из графиков ошибок на обучающей и валидационной выборках, ошибка резко уменьшается и далее стремиться к некоторому постоянному значению, что было ожидаемо. \n",
    "\n",
    "Вторая используемая модель — это двухслойный персептрон. Он представляет собой нейронную сеть, состоящую из входного, выходного и двух скрытых слоев нейронов. Двухслойный персептрон используется для решения более сложных задач, чем однослойный персептрон, и позволяет моделировать более сложные зависимости между входными и выходными данными. Функция ReLU (Rectified Linear Unit) используется для активации нейронов. Это кусочно-линейная функция, которая пропускает положительные значения и обрезает отрицательные. Это позволяет улучшить скорость обучения модели и предотвратить затухание градиента. Можно заметить, что потреи при обучении становятся меньше, чем в первой модели.\n",
    "\n",
    "Третья модель — четырехслойный персептрон. Это еще более сложная модель, чем вторая, это нейронная сеть с четырьмя слоями нейронов: входным, выходным и тремя скрытыми слоями. Для активации используется также функция ReLU. Из графика видно, что потери понизились посравнению с первой и второй моделями.\n",
    "\n",
    "Последняя используемая модель — это восьмислойный персептрон. Это самая сложная модель, используемая в работе. Она состоит из восьми слоев нейронов: входным, выходным и семью скрытыми слоями. В качестве функции активации используется функция ReLU. Как из графика можно заметить, ошибка увеличилась посравнению с третьей моделью. Если в персептроне слищком много слоев, это может привести к переобучению НС, что вызывает увеличение ошибки.\n",
    "\n",
    "В заключении стоит отметить, что в ходе работы была построена нейронная сеть, с помощью которой можно апроксимизировать набор точек с определенной точностью. Количество слоев и структура персептрона зависит от конкретной задачи и от размера выборки. Не существует универсального рецепта для выбора наилучшей структуры НС. Эксперименты в этой работе показали, что для данной задачи и на данной выборке из протестированных моделей лучше всего себя показала третья модель, четырехслойный персептрон."
   ]
  }
 ],
 "metadata": {
  "kernelspec": {
   "display_name": "base",
   "language": "python",
   "name": "python3"
  },
  "language_info": {
   "codemirror_mode": {
    "name": "ipython",
    "version": 3
   },
   "file_extension": ".py",
   "mimetype": "text/x-python",
   "name": "python",
   "nbconvert_exporter": "python",
   "pygments_lexer": "ipython3",
   "version": "3.9.12"
  },
  "orig_nbformat": 4
 },
 "nbformat": 4,
 "nbformat_minor": 2
}
