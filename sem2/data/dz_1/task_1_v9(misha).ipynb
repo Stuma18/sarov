{
 "cells": [
  {
   "cell_type": "code",
   "execution_count": null,
   "id": "179d68c4",
   "metadata": {},
   "outputs": [],
   "source": [
    "import pandas as pd\n",
    "from mlxtend.preprocessing import TransactionEncoder\n",
    "from mlxtend.frequent_patterns import association_rules, apriori\n",
    "import networkx as nx\n",
    "import matplotlib.pyplot as plt\n",
    "%matplotlib inline\n",
    "import numpy as np\n",
    "from sklearn.decomposition import PCA\n",
    "from sklearn.neural_network import MLPRegressor\n",
    "from sklearn.manifold import TSNE"
   ]
  },
  {
   "cell_type": "markdown",
   "id": "5cb2c762",
   "metadata": {},
   "source": [
    "# 1\n",
    "Загрузите файл «assc_TRANSACTION.csv». В нем три колонки Customer – ID клиента, Product –\n",
    "покупка, Time – временная метка (для задания не нужна). Определите (написав\n",
    "соответствующий код) сколько различных значений принимают переменные Product и\n",
    "Customer."
   ]
  },
  {
   "cell_type": "code",
   "execution_count": null,
   "id": "fdca2bc7",
   "metadata": {},
   "outputs": [],
   "source": [
    "df = pd.read_csv(\"assc_TRANSACTION.csv\")\n",
    "del df[\"TIME\"]\n",
    "df.nunique()"
   ]
  },
  {
   "cell_type": "markdown",
   "id": "6171ae5f",
   "metadata": {},
   "source": [
    "# 2\n",
    "Найдите частые эпизоды с ограничением на размер правила равным 4, с использованием\n",
    "алгоритма и порога на поддержку согласно вашему варианту. (Apriori, 6%)"
   ]
  },
  {
   "cell_type": "code",
   "execution_count": null,
   "id": "3d12a42b",
   "metadata": {},
   "outputs": [],
   "source": [
    "# Формирование списка транзакций\n",
    "transactions = df.groupby(\"CUSTOMER\").aggregate({\"PRODUCT\":list}).values[:, 0]\n",
    "\n",
    "# Кодирование транзакций\n",
    "te = TransactionEncoder()\n",
    "te_ary = te.fit_transform(transactions)\n",
    "df2 = pd.DataFrame(te_ary, columns=te.columns_)\n",
    "\n",
    "# Построение модели\n",
    "frequent_itemsets = apriori(df2, min_support=0.06, use_colnames=True, max_len=4)\n",
    "frequent_itemsets"
   ]
  },
  {
   "cell_type": "markdown",
   "id": "e41bd60c",
   "metadata": {},
   "source": [
    "# 3\n",
    "Найдите самый большой (где больше всего элементов) частый эпизод, содержащий продукт\n",
    "согласно вашему варианту. Какая у него поддержка? (soda)"
   ]
  },
  {
   "cell_type": "code",
   "execution_count": null,
   "id": "e6d16f5e",
   "metadata": {},
   "outputs": [],
   "source": [
    "df3 = frequent_itemsets.copy()\n",
    "\n",
    "df3 = df3[df3[\"itemsets\"].astype(str).str.contains(\"soda\")]\n",
    "\n",
    "df3[\"length\"] = df3[\"itemsets\"].apply(lambda x: len(x))\n",
    "\n",
    "df3.sort_values(by=[\"length\", \"support\"], ascending=False).head(1)"
   ]
  },
  {
   "cell_type": "markdown",
   "id": "a9c5dd79",
   "metadata": {},
   "source": [
    "# 4\n",
    "На основе найденных частых эпизодов постройте ассоциативные правила с порогом на\n",
    "достоверность согласно вашему варианту. Найдите правило с максимальным лифтом,\n",
    "содержащем продукт из вашего варианта в левой части правила. Дайте ему письменную\n",
    "словесную интерпретацию, укажите и объясните его числовые показатели: поддержку,\n",
    "достоверность и подъем. (20%, \"soda\")"
   ]
  },
  {
   "cell_type": "code",
   "execution_count": null,
   "id": "40e1439d",
   "metadata": {},
   "outputs": [],
   "source": [
    "df4 = association_rules(frequent_itemsets, metric=\"confidence\", min_threshold=0.2)\n",
    "\n",
    "df4[df4[\"antecedents\"].astype(str).str.contains(\"soda\")].sort_values(by=[\"lift\"], ascending=False).head(1)"
   ]
  },
  {
   "cell_type": "markdown",
   "id": "de182b67",
   "metadata": {},
   "source": [
    "(soda, bourbon) $\\to$ (olives, cracker)\n",
    "\n",
    "Правило заключается в том, что при покупке (soda, bourbon) купят и (olives, cracker).\n",
    "\n",
    "Поддержка $=0.107892$.\n",
    "\n",
    "Поддержка - процент транзакций, содержащих оба набора атрибутов.\n",
    "\n",
    "Достоверность $=0.696774$.\n",
    "\n",
    "Достоверность - вероятность, что транзакция, содержащая 1-й набор атрибутов, будет содержать и 2-й. $1 \\to 2$\n",
    "\n",
    "Подъем $=3.770113$.\n",
    "\n",
    "Подъем - отношение достоверности $(1 \\to 2)$ к поддержке $(2)$.\n",
    "\n",
    "$$\n",
    "\\operatorname{support} (X \\implies Y) = P(X \\cap Y)\n",
    "\\\\[0.5 cm]\n",
    "\\operatorname{confidence} (X \\implies Y) = P(Y | X)\n",
    "\\\\[0.5 cm]\n",
    "\\operatorname{lift} (X \\implies Y) = \\frac {P(Y | X)} {P(Y)} = \\frac {\\operatorname{confidence} (X \\implies Y)}\n",
    "{P(Y)}\n",
    "$$"
   ]
  },
  {
   "cell_type": "markdown",
   "id": "85feafa0",
   "metadata": {},
   "source": [
    "# 5\n",
    "Используя только двухместные правила постройте ориентированный граф, где вершины\n",
    "элементы правила, их цвет (или размер) – поддержка элемента (item support), дуги –\n",
    "импликации (ориентированы в направлении от условия к следствию), веса дугu –\n",
    "достоверности."
   ]
  },
  {
   "cell_type": "code",
   "execution_count": null,
   "id": "8416dd89",
   "metadata": {},
   "outputs": [],
   "source": [
    "df5 = df4.copy()\n",
    "\n",
    "df5[\"len1\"] = df5[\"antecedents\"].apply(lambda x: len(x))\n",
    "df5[\"len2\"] = df5[\"consequents\"].apply(lambda x: len(x))\n",
    "\n",
    "df5 = df5[(df5[\"len1\"] == 1) & (df5[\"len2\"] == 1)]\n",
    "\n",
    "G = nx.from_pandas_edgelist(\n",
    "    df5, source=\"antecedents\", target=\"consequents\", edge_attr=\"confidence\", create_using=nx.DiGraph)\n",
    "\n",
    "d = df5.groupby('antecedents')['antecedent support'].max().to_dict()\n",
    "\n",
    "nx.set_node_attributes(G, d, \"support\")\n",
    "\n",
    "nodes_weights = list(nx.get_node_attributes(G, 'support').values())\n",
    "\n",
    "edge_weights = list(nx.get_edge_attributes(G, 'confidence').values())\n",
    "\n",
    "nodes_weights = list(map(lambda x : x * 10000, nodes_weights))\n",
    "edge_weights = list(map(lambda x : x * 5, edge_weights))\n",
    "\n",
    "\n",
    "\n",
    "plt.figure(figsize=(16,9))\n",
    "\n",
    "nx.draw_networkx(G, arrows=True,\n",
    "                 node_size=nodes_weights, node_color=nodes_weights,\n",
    "                 width=edge_weights, edge_color=edge_weights)\n",
    "plt.show()"
   ]
  },
  {
   "cell_type": "markdown",
   "id": "f1ae0a06",
   "metadata": {},
   "source": [
    "# 6\n",
    "Для данного графа рассчитайте меры центральности согласно вашему варианту и найдите\n",
    "элемент с самой высокой мерой, а также какую меру имеет продукт из вашего варианта. (Authority, soda)"
   ]
  },
  {
   "cell_type": "code",
   "execution_count": null,
   "id": "7b04b206",
   "metadata": {},
   "outputs": [],
   "source": [
    "h, a = nx.hits(G)\n",
    "metr = dict(sorted(a.items(), key=lambda x: x[1]))\n",
    "\n",
    "print(f\"Элемент с самой высокой мерой - {list(list(metr.keys())[-1])[0]}\")\n",
    "print(f\"Мера soda - {metr[frozenset({'soda'})]}\")\n",
    "\n",
    "plt.xticks(rotation=\"vertical\")\n",
    "plt.bar(list(map(lambda x: list(x)[0], metr.keys())),  metr.values())\n",
    "plt.show()"
   ]
  },
  {
   "cell_type": "markdown",
   "id": "d946541a",
   "metadata": {},
   "source": [
    "# 7\n",
    "Постройте числовую матрицу со счетчиком числа покупок в ячейках, клиентами по строкам и\n",
    "продуктами по столбцам."
   ]
  },
  {
   "cell_type": "code",
   "execution_count": null,
   "id": "0c78546b",
   "metadata": {},
   "outputs": [],
   "source": [
    "df7 = df.groupby(\"CUSTOMER\")[\"PRODUCT\"].value_counts().unstack(fill_value=0)\n",
    "df7"
   ]
  },
  {
   "cell_type": "markdown",
   "id": "eaaa88e1",
   "metadata": {},
   "source": [
    "# 8\n",
    "С помощью метода из вашего варианта постройте линейную проекцию набора данных на\n",
    "плоскость (2 компоненты) цветом укажите транзакции, содержащие продукт вашего варианта. (PCA, soda)"
   ]
  },
  {
   "cell_type": "code",
   "execution_count": null,
   "id": "22789cea",
   "metadata": {},
   "outputs": [],
   "source": [
    "pca = PCA(n_components=2)\n",
    "features = pca.fit_transform(df7)\n",
    "\n",
    "plt.scatter(features[:, 0], features[:, 1], c=df7[\"soda\"])\n",
    "plt.xlabel(\"PC1\")\n",
    "plt.ylabel(\"PC2\")\n",
    "plt.show()"
   ]
  },
  {
   "cell_type": "markdown",
   "id": "143a6544",
   "metadata": {},
   "source": [
    "# 9\n",
    "С помощью метода из вашего варианта постройте нелинейную проекцию набора данных на\n",
    "плоскость цветом укажите транзакции, содержащие продукт из вашего варианта. Не\n",
    "указанные в задании параметры (например, размер решетки для SOM или число слоев в\n",
    "автоэнкодере можно выбирать на свое усмотрение для получение наиболее удобной\n",
    "визуализации). Дайте письменный комментарий, чем с вашей точки зрения для вашего\n",
    "примера лучше или хуже нелинейная проекция). (AutoEncoder, soda)"
   ]
  },
  {
   "cell_type": "code",
   "execution_count": null,
   "id": "62e09cec",
   "metadata": {},
   "outputs": [],
   "source": [
    "X = df7\n",
    "Y = df7[\"soda\"]\n",
    "\n",
    "model = MLPRegressor(hidden_layer_sizes=(2, 2, 2), max_iter=1000, alpha=0.0001)\n",
    "\n",
    "model.fit(X, X)\n",
    "\n",
    "dummy = np.zeros((1, 2))\n",
    "\n",
    "hidden = MLPRegressor(hidden_layer_sizes=[], max_iter=1000).fit(X[:1], dummy)\n",
    "\n",
    "hidden.coefs_[0] = model.coefs_[0]\n",
    "\n",
    "neurons = hidden.predict(X)\n",
    "\n",
    "plt.scatter(*neurons.T, c=Y)\n",
    "plt.xlabel(\"Neuron-1\")\n",
    "plt.ylabel(\"Neuron-2\")\n",
    "plt.show()\n",
    "\n",
    "# embedded = TSNE(n_components=2, learning_rate=\"auto\", init=\"random\", perplexity=3).fit_transform(df7)\n",
    "# plt.scatter(*embedded.T, c=df7[\"soda\"])\n",
    "# plt.show()"
   ]
  },
  {
   "cell_type": "markdown",
   "id": "ec446d3d",
   "metadata": {},
   "source": [
    "Линейная проекция в моем случае лучше, так как на ней более явно заметны группы."
   ]
  },
  {
   "cell_type": "markdown",
   "id": "404cfa79",
   "metadata": {},
   "source": [
    "# 10\n",
    "Из исходной матрицы (из пункта 7) согласно вашему варианту отберите указанное число\n",
    "независимых переменных с использованием заданного метода. (VarClus, 7)"
   ]
  },
  {
   "cell_type": "code",
   "execution_count": null,
   "id": "bae2774a",
   "metadata": {},
   "outputs": [],
   "source": [
    "from varclushi import VarClusHi\n",
    "\n",
    "clusters = VarClusHi(df7, maxeigval2=0.9, maxclus=7)\n",
    "clusters.varclus()\n",
    "\n",
    "max_RS_Ratio = clusters.rsquare.sort_values(by=[\"Cluster\", \"RS_Ratio\"], ascending=[True, False])\n",
    "\n",
    "for i in range(7):\n",
    "    print(max_RS_Ratio[max_RS_Ratio[\"Cluster\"] == i][\"Variable\"].values[0])\n",
    "\n",
    "max_RS_Ratio"
   ]
  },
  {
   "cell_type": "code",
   "execution_count": null,
   "id": "0ba117f2",
   "metadata": {},
   "outputs": [],
   "source": [
    "clusters.info"
   ]
  },
  {
   "cell_type": "code",
   "execution_count": null,
   "id": "1ceab2ed",
   "metadata": {},
   "outputs": [],
   "source": [
    "clusters.rsquare"
   ]
  },
  {
   "cell_type": "code",
   "execution_count": null,
   "id": "61f62fb3",
   "metadata": {},
   "outputs": [],
   "source": [
    "hierarchy = list()\n",
    "variance_explained = dict()\n",
    "for i in range(len(clusters.info), 0, -1):\n",
    "    vch = VarClusHi(df7, maxeigval2=0.9, maxclus=i)\n",
    "    vch.varclus()\n",
    "    for _, x in vch.clusters.items(): # number, cluster\n",
    "        cluster = frozenset(x.clus)\n",
    "        hierarchy.append(cluster)\n",
    "        variance_explained[cluster] = x.eigval1\n",
    "\n",
    "plt.xticks(rotation='vertical')\n",
    "cmap = plt.cm.tab20c(np.linspace(0, 1, len(hierarchy)))\n",
    "for i, cluster in enumerate(hierarchy):\n",
    "    x = list(cluster)\n",
    "    y = np.ones(len(x)) * variance_explained[cluster]\n",
    "    for bar in plt.bar(x, y, zorder=-i):\n",
    "        bar.set_color(cmap[i])\n",
    "\n",
    "plt.show()"
   ]
  },
  {
   "cell_type": "code",
   "execution_count": null,
   "id": "aa60be9d",
   "metadata": {},
   "outputs": [],
   "source": []
  }
 ],
 "metadata": {
  "kernelspec": {
   "display_name": "Python 3 (ipykernel)",
   "language": "python",
   "name": "python3"
  },
  "language_info": {
   "codemirror_mode": {
    "name": "ipython",
    "version": 3
   },
   "file_extension": ".py",
   "mimetype": "text/x-python",
   "name": "python",
   "nbconvert_exporter": "python",
   "pygments_lexer": "ipython3",
   "version": "3.10.6"
  }
 },
 "nbformat": 4,
 "nbformat_minor": 5
}
